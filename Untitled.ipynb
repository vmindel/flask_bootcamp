{
 "cells": [
  {
   "cell_type": "code",
   "execution_count": 1,
   "id": "de44e8de",
   "metadata": {},
   "outputs": [],
   "source": [
    "import pandas as pd"
   ]
  },
  {
   "cell_type": "code",
   "execution_count": 3,
   "id": "f9250977",
   "metadata": {},
   "outputs": [],
   "source": [
    "gp = pd.read_csv('geneinfo_params.csv', index_col=0)"
   ]
  },
  {
   "cell_type": "code",
   "execution_count": 15,
   "id": "bac1235c",
   "metadata": {},
   "outputs": [
    {
     "data": {
      "text/plain": [
       "'Subunit of RNA polymerase III transcription initiation factor complex; part of TauB domain of TFIIIC that binds DNA at BoxB promoter sites of tRNA and similar genes; cooperates with Tfc6p in DNA binding; largest of six subunits of RNA polymerase III transcription initiation factor complex (TFIIIC); colocalizes with condensin at pol III genes and several ETC (“extra TFIIIC)” sites; may have a role in recruiting or stabilizing Scc2/4 and condensin on chromosomes'"
      ]
     },
     "execution_count": 15,
     "metadata": {},
     "output_type": "execute_result"
    }
   ],
   "source": [
    "gp.loc[gp.orf=='YAL001C', 'desc'].values[0]"
   ]
  },
  {
   "cell_type": "code",
   "execution_count": 11,
   "id": "3daec243",
   "metadata": {},
   "outputs": [
    {
     "data": {
      "text/plain": [
       "'Stress-responsive transcriptional activator; activated in stochastic pulses of nuclear localization in response to various stress conditions; binds DNA at stress response elements of responsive genes; relative distribution to nucleus increases upon DNA replication stress'"
      ]
     },
     "execution_count": 11,
     "metadata": {},
     "output_type": "execute_result"
    }
   ],
   "source": [
    "gp.loc['MSN2', 'desc']"
   ]
  },
  {
   "cell_type": "code",
   "execution_count": null,
   "id": "64558a0d",
   "metadata": {},
   "outputs": [],
   "source": []
  }
 ],
 "metadata": {
  "kernelspec": {
   "display_name": "Python 3",
   "language": "python",
   "name": "python3"
  },
  "language_info": {
   "codemirror_mode": {
    "name": "ipython",
    "version": 3
   },
   "file_extension": ".py",
   "mimetype": "text/x-python",
   "name": "python",
   "nbconvert_exporter": "python",
   "pygments_lexer": "ipython3",
   "version": "3.8.8"
  }
 },
 "nbformat": 4,
 "nbformat_minor": 5
}
